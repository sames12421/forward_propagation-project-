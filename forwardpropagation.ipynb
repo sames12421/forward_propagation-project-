{
  "nbformat": 4,
  "nbformat_minor": 0,
  "metadata": {
    "colab": {
      "provenance": [],
      "authorship_tag": "ABX9TyPzmjCFBr2Eju2p4V6N9l9h",
      "include_colab_link": true
    },
    "kernelspec": {
      "name": "python3",
      "display_name": "Python 3"
    },
    "language_info": {
      "name": "python"
    }
  },
  "cells": [
    {
      "cell_type": "markdown",
      "metadata": {
        "id": "view-in-github",
        "colab_type": "text"
      },
      "source": [
        "<a href=\"https://colab.research.google.com/github/sames12421/forward_propagation-project-/blob/main/forwardpropagation.ipynb\" target=\"_parent\"><img src=\"https://colab.research.google.com/assets/colab-badge.svg\" alt=\"Open In Colab\"/></a>"
      ]
    },
    {
      "cell_type": "code",
      "execution_count": null,
      "metadata": {
        "id": "XUy_pTG2XYCK"
      },
      "outputs": [],
      "source": [
        "import numpy as np"
      ]
    },
    {
      "cell_type": "code",
      "source": [
        "def sigmoid(x):\n",
        "  return 1/(1*np.exp(-x))\n",
        "def relu(x):\n",
        "  return np.maximum(0,max)"
      ],
      "metadata": {
        "id": "_Krs-MXcXh5Y"
      },
      "execution_count": null,
      "outputs": []
    },
    {
      "cell_type": "code",
      "source": [
        "input_size=3\n",
        "hidden_size=4\n",
        "output_size=1"
      ],
      "metadata": {
        "id": "VBHVY8m6X2yU"
      },
      "execution_count": null,
      "outputs": []
    },
    {
      "cell_type": "code",
      "source": [
        "np.random.seed(42)\n",
        "w1 = np.random.randn(input_size,hidden_size)\n",
        "b1=np.zeros((1,hidden_size))\n",
        "w2 = np.random.randn(hidden_size,output_size)\n",
        "b2=np.zeros((1,output_size))"
      ],
      "metadata": {
        "id": "rZi3iqQxX_6R"
      },
      "execution_count": null,
      "outputs": []
    },
    {
      "cell_type": "code",
      "source": [
        "x=np.array([1.0,0.5,-1.5]) #input values"
      ],
      "metadata": {
        "id": "TEWE5YtuZizK"
      },
      "execution_count": null,
      "outputs": []
    },
    {
      "cell_type": "code",
      "source": [
        "z1=np.dot(x,w1)+b1 #input to hidden\n",
        "a1=sigmoid(z1)#forword propagation\n",
        "z2=np.dot(a1,w2)+b2#hidden t output\n",
        "a2=sigmoid(z2)"
      ],
      "metadata": {
        "id": "gLxthSZZZxrY"
      },
      "execution_count": null,
      "outputs": []
    },
    {
      "cell_type": "code",
      "source": [
        "print('output of the network (A2):',a2)"
      ],
      "metadata": {
        "colab": {
          "base_uri": "https://localhost:8080/"
        },
        "id": "sis_TJijaCrp",
        "outputId": "66b6c695-039a-4f27-a193-50d178879be9"
      },
      "execution_count": null,
      "outputs": [
        {
          "output_type": "stream",
          "name": "stdout",
          "text": [
            "output of the network (A2): [[2.51708311e-10]]\n"
          ]
        }
      ]
    }
  ]
}